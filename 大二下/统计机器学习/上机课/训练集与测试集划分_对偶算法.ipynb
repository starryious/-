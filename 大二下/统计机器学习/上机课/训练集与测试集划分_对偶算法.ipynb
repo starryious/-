{
 "cells": [
  {
   "cell_type": "code",
   "execution_count": 1,
   "id": "4cdf9c70",
   "metadata": {},
   "outputs": [],
   "source": [
    "import numpy as np\n",
    "from sklearn.model_selection import train_test_split\n"
   ]
  },
  {
   "cell_type": "markdown",
   "id": "d7a600a3",
   "metadata": {},
   "source": [
    "留出法直接将原数据集划分为两个互斥的数据集，即训练集与测试集。sklearn直接提供给我们这样的方法，便于操作"
   ]
  },
  {
   "cell_type": "code",
   "execution_count": 2,
   "id": "1b9e4fd5",
   "metadata": {},
   "outputs": [],
   "source": [
    "#构造一个X是5行2列的二维数组，y为5个元素的列表\n",
    "X, y = np.random.randint(10,size=(5,2)), list(range(5))"
   ]
  },
  {
   "cell_type": "code",
   "execution_count": 3,
   "id": "04b01fde",
   "metadata": {},
   "outputs": [
    {
     "data": {
      "text/plain": [
       "array([[2, 8],\n",
       "       [8, 9],\n",
       "       [7, 3],\n",
       "       [0, 8],\n",
       "       [7, 8]])"
      ]
     },
     "execution_count": 3,
     "metadata": {},
     "output_type": "execute_result"
    }
   ],
   "source": [
    "X"
   ]
  },
  {
   "cell_type": "code",
   "execution_count": 4,
   "id": "9d89d743",
   "metadata": {},
   "outputs": [
    {
     "data": {
      "text/plain": [
       "[0, 1, 2, 3, 4]"
      ]
     },
     "execution_count": 4,
     "metadata": {},
     "output_type": "execute_result"
    }
   ],
   "source": [
    "y"
   ]
  },
  {
   "cell_type": "code",
   "execution_count": 48,
   "id": "d2fa1eb1",
   "metadata": {},
   "outputs": [
    {
     "data": {
      "text/plain": [
       "array([[2, 8],\n",
       "       [8, 9],\n",
       "       [0, 8]])"
      ]
     },
     "execution_count": 48,
     "metadata": {},
     "output_type": "execute_result"
    }
   ],
   "source": [
    "#将X，y划分为训练集和测试集，测试集的比例为0.3（向上取整）\n",
    "X_train, X_test, y_train, y_test = train_test_split(X, y, test_size=0.3)\n",
    "X_train"
   ]
  },
  {
   "cell_type": "code",
   "execution_count": 59,
   "id": "2f121427",
   "metadata": {},
   "outputs": [
    {
     "data": {
      "text/plain": [
       "array([[7, 8],\n",
       "       [7, 3]])"
      ]
     },
     "execution_count": 59,
     "metadata": {},
     "output_type": "execute_result"
    }
   ],
   "source": [
    " X_test"
   ]
  },
  {
   "cell_type": "code",
   "execution_count": 60,
   "id": "bdebbcd9",
   "metadata": {},
   "outputs": [
    {
     "data": {
      "text/plain": [
       "[0, 1, 3]"
      ]
     },
     "execution_count": 60,
     "metadata": {},
     "output_type": "execute_result"
    }
   ],
   "source": [
    "y_train"
   ]
  },
  {
   "cell_type": "code",
   "execution_count": 61,
   "id": "809ca74c",
   "metadata": {},
   "outputs": [
    {
     "data": {
      "text/plain": [
       "[4, 2]"
      ]
     },
     "execution_count": 61,
     "metadata": {},
     "output_type": "execute_result"
    }
   ],
   "source": [
    "y_test"
   ]
  },
  {
   "cell_type": "markdown",
   "id": "0ec57717",
   "metadata": {},
   "source": [
    "k折交叉验证法（当k为样本数量时即为留一法）\n",
    "K折交叉验证，这是将数据集分成K份，所谓K折就是将数据集通过K次分割，使得所有数据既在训练集出现过，又在测试集出现过。当然，\n",
    "每次分割中不会有重叠，即不会有交集，相当于无放回抽样。"
   ]
  },
  {
   "cell_type": "code",
   "execution_count": 63,
   "id": "cc56188e",
   "metadata": {},
   "outputs": [],
   "source": [
    "from sklearn.model_selection import KFold\n",
    "import numpy as np"
   ]
  },
  {
   "cell_type": "code",
   "execution_count": 65,
   "id": "34a97ea4",
   "metadata": {},
   "outputs": [],
   "source": [
    "X = np.array([[1, 2], [3, 4], [5, 6], [7, 8]])\n",
    "y = np.array([1, 2, 3, 4])\n",
    "kf = KFold(n_splits=4)"
   ]
  },
  {
   "cell_type": "code",
   "execution_count": 69,
   "id": "323dacae",
   "metadata": {},
   "outputs": [
    {
     "name": "stdout",
     "output_type": "stream",
     "text": [
      "TRAIN: [1 2 3] TEST: [0]\n",
      "TRAIN: [0 2 3] TEST: [1]\n",
      "TRAIN: [0 1 3] TEST: [2]\n",
      "TRAIN: [0 1 2] TEST: [3]\n"
     ]
    }
   ],
   "source": [
    "for train_index, test_index in kf.split(X):\n",
    "    print(\"TRAIN:\", train_index, \"TEST:\", test_index)"
   ]
  },
  {
   "cell_type": "code",
   "execution_count": 71,
   "id": "bfac6672",
   "metadata": {},
   "outputs": [],
   "source": [
    "X_train, X_test = X[train_index], X[test_index]\n",
    "y_train, y_test = y[train_index], y[test_index]"
   ]
  },
  {
   "cell_type": "code",
   "execution_count": 80,
   "id": "e516215a",
   "metadata": {},
   "outputs": [
    {
     "data": {
      "text/plain": [
       "array([[1, 2],\n",
       "       [3, 4],\n",
       "       [5, 6]])"
      ]
     },
     "execution_count": 80,
     "metadata": {},
     "output_type": "execute_result"
    }
   ],
   "source": [
    "X_train"
   ]
  },
  {
   "cell_type": "code",
   "execution_count": 77,
   "id": "4af79c29",
   "metadata": {},
   "outputs": [
    {
     "data": {
      "text/plain": [
       "array([[7, 8]])"
      ]
     },
     "execution_count": 77,
     "metadata": {},
     "output_type": "execute_result"
    }
   ],
   "source": [
    "X_test"
   ]
  },
  {
   "cell_type": "code",
   "execution_count": 78,
   "id": "c55deb6d",
   "metadata": {},
   "outputs": [
    {
     "data": {
      "text/plain": [
       "array([1, 2, 3])"
      ]
     },
     "execution_count": 78,
     "metadata": {},
     "output_type": "execute_result"
    }
   ],
   "source": [
    "y_train"
   ]
  },
  {
   "cell_type": "code",
   "execution_count": 79,
   "id": "6c56acf7",
   "metadata": {},
   "outputs": [
    {
     "data": {
      "text/plain": [
       "array([4])"
      ]
     },
     "execution_count": 79,
     "metadata": {},
     "output_type": "execute_result"
    }
   ],
   "source": [
    "y_test"
   ]
  },
  {
   "cell_type": "code",
   "execution_count": null,
   "id": "63b06f92",
   "metadata": {},
   "outputs": [],
   "source": [
    "import numpy as np\n",
    "import matplotlib.pyplot as plt\n",
    "\n",
    "class Perception():\n",
    "    '''\n",
    "    感知机算法，包括原始形式和对偶形式\n",
    "    '''\n",
    "    def __init__(self):\n",
    "        self.learing_rate = 1\n",
    "\n",
    "    def train(self, data, labels):\n",
    "        '''\n",
    "        原始形式的感知机算法，输入数据必须线性可分\n",
    "        :param data: (n*m),n为样本个数，m为特征个数\n",
    "        :param labels: 样本标签A\n",
    "        '''\n",
    "        data_size = data.shape[0]\n",
    "        #初始化w,b\n",
    "        self.w = [0] * (data.shape[1])\n",
    "        self.b = 0\n",
    "        y_pred = np.sign((np.dot(data, self.w) + self.b))\n",
    "        #是否有误分类标记，当有误分类样本时执行以下循环\n",
    "        flag = (y_pred == labels).all()\n",
    "        while not flag:\n",
    "            for i in range(data_size):\n",
    "                y_pred = np.sign((np.dot(data, self.w) + self.b))\n",
    "                if y_pred[i]*labels[i] <= 0:\n",
    "                    self.w += self.learing_rate * data[i] * labels[i]\n",
    "                    self.b += self.learing_rate * labels[i]\n",
    "                    print(self.w,self.b)\n",
    "            flag = (y_pred == labels).all()\n",
    "   "
   ]
  },
  {
   "cell_type": "code",
   "execution_count": null,
   "id": "83b95632",
   "metadata": {},
   "outputs": [],
   "source": [
    " def get_gram_matrix(self, data):\n",
    "        #计算格拉姆矩阵\n",
    "        data_size = data.shape[0]\n",
    "        gram_matrix = np.zeros((data_size, data_size))\n",
    "        for i in range(data_size):\n",
    "            for j in range(data_size):\n",
    "                gram_matrix[i, j] = np.dot(data[i], data[j])\n",
    "        self.gram_matrix = gram_matrix\n",
    "\n",
    "    "
   ]
  },
  {
   "cell_type": "code",
   "execution_count": 52,
   "id": "81568ed1",
   "metadata": {},
   "outputs": [],
   "source": [
    "def dual_output(self, x_index, data_size, labels):\n",
    "        '''\n",
    "        计算第x_index个样本的对偶形式的输出，这里不进行符号函数运算\n",
    "        :param x_index: 样本索引\n",
    "        :param data_size: 样本个数\n",
    "        :param labels: 样本标签\n",
    "        '''\n",
    "        output = self.b\n",
    "        for i in range(data_size):\n",
    "            output += (self.alpha[i] * labels[i] * self.gram_matrix[i, x_index])\n",
    "        return output\n",
    "\n",
    "def train_dual(self, data, labels):\n",
    "        #d对偶形式的感知机算法\n",
    "        self.b = 0\n",
    "        self.get_gram_matrix(data)\n",
    "        data_size = data.shape[0]\n",
    "        self.alpha = [0] * data_size\n",
    "        flag = False\n",
    "        while not flag:\n",
    "            y_pred = [0] * data_size\n",
    "            for i in range(data_size):\n",
    "                y_pred[i] = np.sign(self.dual_output(i, data_size, labels))\n",
    "                if labels[i] * y_pred[i] <= 0:\n",
    "                    self.alpha[i] += self.learing_rate\n",
    "                    self.b += self.learing_rate * labels[i]\n",
    "                    print(self.alpha,self.b)\n",
    "            flag = (y_pred == labels).all()"
   ]
  },
  {
   "cell_type": "code",
   "execution_count": 49,
   "id": "5046f306",
   "metadata": {},
   "outputs": [
    {
     "name": "stdout",
     "output_type": "stream",
     "text": [
      "[1, 0, 0] 1\n",
      "[1, 0, 1] 0\n",
      "[1, 0, 2] -1\n",
      "[1, 0, 3] -2\n",
      "[2, 0, 3] -1\n",
      "[2, 0, 4] -2\n",
      "[2, 0, 5] -3\n",
      "[3 3] 1\n",
      "[2 2] 0\n",
      "[1 1] -1\n",
      "[0 0] -2\n",
      "[3 3] -1\n",
      "[2 2] -2\n",
      "[1 1] -3\n"
     ]
    }
   ],
   "source": [
    "#书中例题数据检验算法\n",
    "data = [[3,3],[4,3],[1,1]]\n",
    "labels = [1,1,-1]\n",
    "data = np.array(data)\n",
    "labels = np.array(labels)\n",
    "model = Perception()\n",
    "model.train_dual(data,labels)\n",
    "model.train(data,labels)"
   ]
  },
  {
   "cell_type": "code",
   "execution_count": 30,
   "id": "549c82bb",
   "metadata": {},
   "outputs": [],
   "source": [
    "##随机生成数据,在y=x附近生成数据\n",
    "x = np.linspace(0,50,50)\n",
    "y1 = x + np.random.randint(1,5,50)\n",
    "y2 = x + np.random.randint(-5,-1,50)"
   ]
  },
  {
   "cell_type": "code",
   "execution_count": 31,
   "id": "04b14a49",
   "metadata": {},
   "outputs": [
    {
     "data": {
      "text/plain": [
       "array([ 3.        ,  2.02040816,  3.04081633,  5.06122449,  7.08163265,\n",
       "        8.10204082,  8.12244898,  9.14285714,  9.16326531, 10.18367347,\n",
       "       13.20408163, 15.2244898 , 13.24489796, 14.26530612, 17.28571429,\n",
       "       17.30612245, 18.32653061, 21.34693878, 20.36734694, 22.3877551 ,\n",
       "       21.40816327, 23.42857143, 25.44897959, 25.46938776, 26.48979592,\n",
       "       27.51020408, 28.53061224, 30.55102041, 29.57142857, 31.59183673,\n",
       "       31.6122449 , 32.63265306, 33.65306122, 35.67346939, 38.69387755,\n",
       "       37.71428571, 38.73469388, 38.75510204, 42.7755102 , 43.79591837,\n",
       "       42.81632653, 44.83673469, 46.85714286, 47.87755102, 48.89795918,\n",
       "       46.91836735, 49.93877551, 50.95918367, 52.97959184, 51.        ])"
      ]
     },
     "execution_count": 31,
     "metadata": {},
     "output_type": "execute_result"
    }
   ],
   "source": [
    "y1"
   ]
  },
  {
   "cell_type": "code",
   "execution_count": 32,
   "id": "48d36c76",
   "metadata": {},
   "outputs": [
    {
     "data": {
      "text/plain": [
       "array([-5.        , -2.97959184, -1.95918367, -0.93877551,  0.08163265,\n",
       "        1.10204082,  4.12244898,  3.14285714,  3.16326531,  7.18367347,\n",
       "        8.20408163,  9.2244898 , 10.24489796, 10.26530612, 11.28571429,\n",
       "       13.30612245, 12.32653061, 15.34693878, 14.36734694, 16.3877551 ,\n",
       "       17.40816327, 18.42857143, 20.44897959, 20.46938776, 20.48979592,\n",
       "       21.51020408, 21.53061224, 24.55102041, 24.57142857, 25.59183673,\n",
       "       26.6122449 , 29.63265306, 27.65306122, 30.67346939, 31.69387755,\n",
       "       31.71428571, 31.73469388, 34.75510204, 33.7755102 , 35.79591837,\n",
       "       38.81632653, 39.83673469, 38.85714286, 38.87755102, 41.89795918,\n",
       "       43.91836735, 42.93877551, 45.95918367, 46.97959184, 46.        ])"
      ]
     },
     "execution_count": 32,
     "metadata": {},
     "output_type": "execute_result"
    }
   ],
   "source": [
    "y2"
   ]
  },
  {
   "cell_type": "code",
   "execution_count": 33,
   "id": "5e5b3865",
   "metadata": {},
   "outputs": [],
   "source": [
    "data_positive = np.c_[x,y1]"
   ]
  },
  {
   "cell_type": "code",
   "execution_count": 37,
   "id": "98dfd9d5",
   "metadata": {},
   "outputs": [
    {
     "data": {
      "text/plain": [
       "array([[ 0.        ,  3.        ],\n",
       "       [ 1.02040816,  2.02040816],\n",
       "       [ 2.04081633,  3.04081633],\n",
       "       [ 3.06122449,  5.06122449],\n",
       "       [ 4.08163265,  7.08163265],\n",
       "       [ 5.10204082,  8.10204082],\n",
       "       [ 6.12244898,  8.12244898],\n",
       "       [ 7.14285714,  9.14285714],\n",
       "       [ 8.16326531,  9.16326531],\n",
       "       [ 9.18367347, 10.18367347],\n",
       "       [10.20408163, 13.20408163],\n",
       "       [11.2244898 , 15.2244898 ],\n",
       "       [12.24489796, 13.24489796],\n",
       "       [13.26530612, 14.26530612],\n",
       "       [14.28571429, 17.28571429],\n",
       "       [15.30612245, 17.30612245],\n",
       "       [16.32653061, 18.32653061],\n",
       "       [17.34693878, 21.34693878],\n",
       "       [18.36734694, 20.36734694],\n",
       "       [19.3877551 , 22.3877551 ],\n",
       "       [20.40816327, 21.40816327],\n",
       "       [21.42857143, 23.42857143],\n",
       "       [22.44897959, 25.44897959],\n",
       "       [23.46938776, 25.46938776],\n",
       "       [24.48979592, 26.48979592],\n",
       "       [25.51020408, 27.51020408],\n",
       "       [26.53061224, 28.53061224],\n",
       "       [27.55102041, 30.55102041],\n",
       "       [28.57142857, 29.57142857],\n",
       "       [29.59183673, 31.59183673],\n",
       "       [30.6122449 , 31.6122449 ],\n",
       "       [31.63265306, 32.63265306],\n",
       "       [32.65306122, 33.65306122],\n",
       "       [33.67346939, 35.67346939],\n",
       "       [34.69387755, 38.69387755],\n",
       "       [35.71428571, 37.71428571],\n",
       "       [36.73469388, 38.73469388],\n",
       "       [37.75510204, 38.75510204],\n",
       "       [38.7755102 , 42.7755102 ],\n",
       "       [39.79591837, 43.79591837],\n",
       "       [40.81632653, 42.81632653],\n",
       "       [41.83673469, 44.83673469],\n",
       "       [42.85714286, 46.85714286],\n",
       "       [43.87755102, 47.87755102],\n",
       "       [44.89795918, 48.89795918],\n",
       "       [45.91836735, 46.91836735],\n",
       "       [46.93877551, 49.93877551],\n",
       "       [47.95918367, 50.95918367],\n",
       "       [48.97959184, 52.97959184],\n",
       "       [50.        , 51.        ]])"
      ]
     },
     "execution_count": 37,
     "metadata": {},
     "output_type": "execute_result"
    }
   ],
   "source": [
    "data_positive"
   ]
  },
  {
   "cell_type": "code",
   "execution_count": 26,
   "id": "ba76b93d",
   "metadata": {},
   "outputs": [],
   "source": [
    "data_negative = np.c_[x,y2]"
   ]
  },
  {
   "cell_type": "code",
   "execution_count": 39,
   "id": "7a629d77",
   "metadata": {},
   "outputs": [
    {
     "name": "stdout",
     "output_type": "stream",
     "text": [
      "[0. 3.] 1.0\n",
      "[-2.04081633  2.95918367] 0.0\n",
      "[-9.18367347 -2.18367347] -1.0\n",
      "[-9.18367347  0.81632653] 0.0\n",
      "[-8.16326531  2.83673469] 1.0\n",
      "[-6.12244898  5.87755102] 2.0\n",
      "[26.53061224 39.53061224] 3.0\n",
      "[24.48979592 39.48979592] 2.0\n",
      "[21.42857143 38.42857143] 1.0\n",
      "[17.34693878 39.34693878] 0.0\n",
      "[12.24489796 36.24489796] -1.0\n",
      "[ 6.12244898 35.12244898] -2.0\n",
      "[-1.02040816 29.97959184] -3.0\n",
      "[-9.18367347 23.81632653] -4.0\n",
      "[-18.36734694  18.63265306] -5.0\n"
     ]
    }
   ],
   "source": [
    "labels_positive = np.ones(50)#设置为1\n",
    "labels_negative = -np.ones(50)#设置为-1\n",
    "data = np.r_[data_positive,data_negative]\n",
    "labels = np.r_[labels_positive,labels_negative]\n",
    "model = Perception()\n",
    "model.train(data,labels)"
   ]
  },
  {
   "cell_type": "code",
   "execution_count": 36,
   "id": "a714677f",
   "metadata": {},
   "outputs": [
    {
     "name": "stdout",
     "output_type": "stream",
     "text": [
      "x_1 = \n",
      " [[1 2 3]\n",
      " [4 5 6]]\n",
      "x_2 = \n",
      " [[3 2 1]\n",
      " [8 9 6]]\n",
      "x_new = \n",
      " [[1 2 3 3 2 1]\n",
      " [4 5 6 8 9 6]]\n"
     ]
    },
    {
     "data": {
      "text/plain": [
       "array([1, 2, 3, 4, 5, 6])"
      ]
     },
     "execution_count": 36,
     "metadata": {},
     "output_type": "execute_result"
    }
   ],
   "source": [
    "x_1 = np.array([1, 2, 3, 4, 5, 6]).reshape(2, 3)\n",
    "x_2 = np.array([3, 2, 1, 8, 9, 6]).reshape(2, 3)\n",
    "x_new = np.c_[x_1,x_2]\n",
    "print(\"x_1 = \\n\",x_1)\n",
    "print(\"x_2 = \\n\",x_2)\n",
    "print(\"x_new = \\n\",x_new)\n",
    "\n"
   ]
  },
  {
   "cell_type": "code",
   "execution_count": 46,
   "id": "3b3f41d2",
   "metadata": {},
   "outputs": [
    {
     "name": "stdout",
     "output_type": "stream",
     "text": [
      "0.9857612267250824\n",
      "0.2683461117196057\n"
     ]
    },
    {
     "data": {
      "image/png": "[encoded data removed]",
      "text/plain": [
       "<Figure size 640x480 with 1 Axes>"
      ]
     },
     "metadata": {},
     "output_type": "display_data"
    }
   ],
   "source": [
    "#计算感知机模型所算的斜率和截距\n",
    "k = - (model.w[0] / model.w[1])\n",
    "b = -model.b / model.w[1]\n",
    "print(k)\n",
    "print(b)\n",
    "xx = np.linspace(0,50,50)\n",
    "y = k*xx + b\n",
    "plt.scatter(x,y1)\n",
    "plt.scatter(x,y2)\n",
    "plt.plot(xx,y)\n",
    "plt.show()"
   ]
  },
  {
   "cell_type": "code",
   "execution_count": 47,
   "id": "8574297a",
   "metadata": {},
   "outputs": [
    {
     "name": "stdout",
     "output_type": "stream",
     "text": [
      "Python 说: 我 10 岁。\n"
     ]
    }
   ],
   "source": [
    "#类定义\n",
    "class people:\n",
    "    #定义基本属性\n",
    "    name = ''\n",
    "    age = 0\n",
    "    #定义私有属性,私有属性在类外部无法直接进行访问\n",
    "    #定义构造方法\n",
    "    def __init__(self,n,a):\n",
    "        self.name = n\n",
    "        self.age = a\n",
    "    def speak(self):\n",
    "        print(\"%s 说: 我 %d 岁。\" %(self.name,self.age))#%s替换为字符串，%d替换为整数\n",
    "# 实例化类\n",
    "p = people('Python',10)\n",
    "p.speak()"
   ]
  }
 ],
 "metadata": {
  "kernelspec": {
   "display_name": "Python 3 (ipykernel)",
   "language": "python",
   "name": "python3"
  },
  "language_info": {
   "codemirror_mode": {
    "name": "ipython",
    "version": 3
   },
   "file_extension": ".py",
   "mimetype": "text/x-python",
   "name": "python",
   "nbconvert_exporter": "python",
   "pygments_lexer": "ipython3",
   "version": "3.10.9"
  }
 },
 "nbformat": 4,
 "nbformat_minor": 5
}
